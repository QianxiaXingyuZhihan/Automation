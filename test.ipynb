{
 "cells": [
  {
   "cell_type": "code",
   "execution_count": 1,
   "metadata": {},
   "outputs": [],
   "source": [
    "import os\n",
    "import re\n",
    "import rsa\n",
    "import time\n",
    "import json\n",
    "import email\n",
    "import base64\n",
    "import imaplib\n",
    "import smtplib\n",
    "import requests\n",
    "from email.mime.text import MIMEText\n",
    "from config import *"
   ]
  },
  {
   "cell_type": "code",
   "execution_count": 2,
   "metadata": {},
   "outputs": [],
   "source": [
    "def email_msg(title: str, content: str) -> None:\n",
    "    # 设置email信息\n",
    "    # 邮件内容设置\n",
    "    message = MIMEText(content, 'plain', 'utf-8')\n",
    "    # 邮件主题'\n",
    "    message['Subject'] = title\n",
    "    # 发送方信息\n",
    "    message['From'] = sender\n",
    "    # 接受方信息\n",
    "    message['To'] = receivers[0]\n",
    "\n",
    "    # 登录并发送邮件\n",
    "    smtp_obj = smtplib.SMTP()\n",
    "    # 连接到服务器\n",
    "    smtp_obj.connect(mail_host, 25)\n",
    "    # 登录到服务器\n",
    "    smtp_obj.login(mail_user, mail_pass)\n",
    "    # 发送\n",
    "    smtp_obj.sendmail(sender, receivers, message.as_string())\n",
    "    # 退出\n",
    "    smtp_obj.quit()"
   ]
  },
  {
   "cell_type": "code",
   "execution_count": 3,
   "metadata": {},
   "outputs": [],
   "source": [
    "headers = {\n",
    "    'accept': ('text/html,application/xhtml+xml,application/xml;q=0.9,image/avif, '\n",
    "        'image/webp,image/apng,*/*;q=0.8,application/signed-exchange;v=b3;q=0.9'),\n",
    "    'accept-encoding': 'deflate, br',\n",
    "    'accept-language': 'zh-CN,zh;q=0.9,en;q=0.8,en-GB;q=0.7,en-US;q=0.6',\n",
    "    'referer': 'https://ecampus.nwpu.edu.cn/main.html',\n",
    "    'sec-ch-ua': '\".Not/A)Brand\";v=\"99\", \"Google Chrome\";v=\"103\", \"Chromium\";v=\"103\"',\n",
    "    'sec-ch-ua-mobile': '?0',\n",
    "    'sec-ch-ua-platform': '\"Linux\"',\n",
    "    'sec-fetch-dest': 'document',\n",
    "    'sec-fetch-mode': 'navigate',\n",
    "    'sec-fetch-site': 'none',\n",
    "    'sec-fetch-user': '?1',\n",
    "    'upgrade-insecure-requests': '1',\n",
    "    'user-agent': ('Mozilla/5.0 (X11; Linux x86_64) AppleWebKit/537.36 (KHTML, like Gecko) '\n",
    "        'Chrome/103.0.0.0 Safari/537.36')\n",
    "}\n",
    "headers2 = headers.copy()\n",
    "headers2['X-Requested-With'] = 'XMLHttpRequest'\n",
    "\n",
    "URL = (\"https://uis.nwpu.edu.cn/cas/login?service=https%3A%2F%2Fecampus.nwpu.edu.cn\"\n",
    "       \"%2F%3Fpath%3Dhttps%3A%2F%2Fecampus.nwpu.edu.cn\")\n",
    "session = requests.session()"
   ]
  },
  {
   "cell_type": "code",
   "execution_count": 4,
   "metadata": {},
   "outputs": [],
   "source": [
    "if os.path.isfile(\"cookies.txt\"):\n",
    "    with open(\"cookies.txt\", \"r\", encoding=\"utf-8\") as f:\n",
    "        new_cookies = json.loads(f.read())\n",
    "    session.cookies.update(new_cookies)\n",
    "    response = session.get(URL, headers=headers)\n",
    "    response.encoding = \"utf-8\""
   ]
  },
  {
   "cell_type": "code",
   "execution_count": 5,
   "metadata": {},
   "outputs": [
    {
     "data": {
      "text/plain": [
       "[]"
      ]
     },
     "execution_count": 5,
     "metadata": {},
     "output_type": "execute_result"
    }
   ],
   "source": [
    "response.history"
   ]
  },
  {
   "cell_type": "code",
   "execution_count": 6,
   "metadata": {},
   "outputs": [],
   "source": [
    "if len(response.history) == 0:\n",
    "    #  没有重定向到主页，开始输入账号\n",
    "    response = session.get(URL, headers=headers)\n",
    "    response.encoding = \"utf-8\"\n",
    "    str1 = re.search('var hmSiteId = \"(.*?)\"', response.text)\n",
    "    new_cookies = {\n",
    "        (\"Hm_lvt_\" + str1.group(1)): str(int(time.time())),\n",
    "        (\"Hm_lpvt_\" + str1.group(1)): str(int(time.time())),\n",
    "    }\n",
    "    session.cookies.update(new_cookies)\n",
    "    # RSA加密password\n",
    "    URL_key = \"https://uis.nwpu.edu.cn/cas/jwt/publicKey\"\n",
    "    public_key = session.get(URL_key, headers=headers2).text\n",
    "    public_key = rsa.PublicKey.load_pkcs1_openssl_pem(public_key.encode())\n",
    "    password = rsa.encrypt(password.encode(), public_key)\n",
    "    password = \"__RSA__\" + base64.b64encode(password).decode()\n",
    "\n",
    "    execution = re.search('name=\"execution\" value=\"(.*?)\"', response.text)\n",
    "\n",
    "    URL = \"https://uis.nwpu.edu.cn/cas/mfa/detect\"\n",
    "    data = {\n",
    "        \"username\": username,\n",
    "        \"password\": password,\n",
    "    }\n",
    "    response = session.post(URL, data=data, headers=headers2)\n",
    "    state_code = json.loads(response.text)[\"data\"][\"state\"]\n",
    "\n",
    "    URL = (\n",
    "        \"https://uis.nwpu.edu.cn/cas/mfa/initByType/secureemail?state=\" + state_code\n",
    "    )\n",
    "    response = session.get(URL, headers=headers2)\n",
    "    gid = json.loads(response.text)[\"data\"][\"gid\"]\n",
    "\n",
    "    URL = \"https://uis.nwpu.edu.cn/attest/api/guard/secureemail/send\"\n",
    "    data = {\"gid\": gid}\n",
    "    session.post(URL, json=data, headers=headers2)\n",
    "\n",
    "    # 获取邮件中的验证码\n",
    "\n",
    "    conn = imaplib.IMAP4_SSL(host=r\"imap.qq.com\", port=993)\n",
    "    code = conn.login(sender, mail_pass)\n",
    "\n",
    "    for _ in range(3):\n",
    "        time.sleep(12)\n",
    "        conn.select()\n",
    "        typ, data1 = conn.search(None, '(FROM \"portal@nwpu.edu.cn\")')\n",
    "        try:\n",
    "            typ, data2 = conn.fetch(data1[0].decode().split()[-1], \"(RFC822)\")\n",
    "        except IndexError as e:\n",
    "            continue\n",
    "        msg = email.message_from_string(data2[0][1].decode(\"utf-8\"))\n",
    "        IDENTIFY_CODE = 0\n",
    "        for part in msg.walk():\n",
    "            if not part.is_multipart():\n",
    "                CONTENT = part.get_payload(decode=True).decode(\"utf-8\")\n",
    "                if CONTENT.startswith(\"您正在进行验证身份\"):\n",
    "                    IDENTIFY_CODE = CONTENT[14:18]\n",
    "                    conn.store(data1[0].decode().split()[-1], \"+FLAGS\", \"\\\\Deleted\")\n",
    "                    conn.expunge()\n",
    "    conn.close()\n",
    "    conn.logout()\n",
    "\n",
    "    # 已经得到验证码，提交\n",
    "\n",
    "    URL = \"https://uis.nwpu.edu.cn/attest/api/guard/secureemail/valid\"\n",
    "    data[\"code\"] = IDENTIFY_CODE\n",
    "    session.post(URL, data=json.dumps(data), headers=headers3)\n",
    "\n",
    "    URL = (\n",
    "        \"https://uis.nwpu.edu.cn/cas/login?service=https%3A%2F%2Fecampus.nwpu.edu.cn\"\n",
    "        \"%2F%3Fpath%3Dhttps%3A%2F%2Fecampus.nwpu.edu.cn\"\n",
    "    )\n",
    "    data = {\n",
    "        \"username\": username,\n",
    "        \"password\": password,\n",
    "        \"rememberMe\": \"true\",\n",
    "        \"currentMenu\": \"1\",\n",
    "        \"mfaState\": state_code,\n",
    "        \"execution\": execution.group(1),\n",
    "        \"_eventId\": \"submit\",\n",
    "        \"geolocation\": \"\",\n",
    "        \"submit\": \"稍等片刻……\",\n",
    "    }\n",
    "    response = session.post(URL, data=data, headers=headers)\n",
    "\n",
    "# 已经得到授权，保存cookies\n",
    "cookies = json.dumps(session.cookies.get_dict())\n",
    "with open(\"cookies.txt\", \"w\", encoding=\"utf-8\") as f:\n",
    "    f.write(cookies)"
   ]
  },
  {
   "cell_type": "code",
   "execution_count": 9,
   "metadata": {},
   "outputs": [
    {
     "data": {
      "text/plain": [
       "True"
      ]
     },
     "execution_count": 9,
     "metadata": {},
     "output_type": "execute_result"
    }
   ],
   "source": [
    "# 查询成绩\n",
    "URL = 'https://jwxt.nwpu.edu.cn/student/sso-login'\n",
    "response = session.get(URL, headers=headers)\n",
    "'黄俊霖同学' in response.text"
   ]
  }
 ],
 "metadata": {
  "kernelspec": {
   "display_name": "Python 3",
   "language": "python",
   "name": "python3"
  },
  "language_info": {
   "codemirror_mode": {
    "name": "ipython",
    "version": 3
   },
   "file_extension": ".py",
   "mimetype": "text/x-python",
   "name": "python",
   "nbconvert_exporter": "python",
   "pygments_lexer": "ipython3",
   "version": "3.12.4"
  }
 },
 "nbformat": 4,
 "nbformat_minor": 2
}
